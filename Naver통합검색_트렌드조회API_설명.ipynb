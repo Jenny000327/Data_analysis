{
  "nbformat": 4,
  "nbformat_minor": 0,
  "metadata": {
    "colab": {
      "provenance": [],
      "authorship_tag": "ABX9TyOF8J22AOyR+xbc+RKBUaoP",
      "include_colab_link": true
    },
    "kernelspec": {
      "name": "python3",
      "display_name": "Python 3"
    },
    "language_info": {
      "name": "python"
    }
  },
  "cells": [
    {
      "cell_type": "markdown",
      "metadata": {
        "id": "view-in-github",
        "colab_type": "text"
      },
      "source": [
        "<a href=\"https://colab.research.google.com/github/Jenny000327/Data_analysis/blob/main/Naver%ED%86%B5%ED%95%A9%EA%B2%80%EC%83%89_%ED%8A%B8%EB%A0%8C%EB%93%9C%EC%A1%B0%ED%9A%8CAPI_%EC%84%A4%EB%AA%85.ipynb\" target=\"_parent\"><img src=\"https://colab.research.google.com/assets/colab-badge.svg\" alt=\"Open In Colab\"/></a>"
      ]
    },
    {
      "cell_type": "markdown",
      "source": [
        "### 네이버 통합 검색어 트렌드 조회 API를 사용해서 데이터 요청하고 결과 받아오는 코드."
      ],
      "metadata": {
        "id": "DpKJkydmjsSd"
      }
    },
    {
      "cell_type": "code",
      "execution_count": 1,
      "metadata": {
        "id": "oy0WyKeZjiKI"
      },
      "outputs": [],
      "source": [
        "# 1. 필요한 모듈 import\n",
        "import os\n",
        "import sys\n",
        "import urllib.request\n"
      ]
    },
    {
      "cell_type": "code",
      "source": [
        "# 2. 클라이언트 아이디와 시크릿을 설정. \n",
        "client_id = \"0T1JOYIqKWNOC8o1_6pM\"\n",
        "client_secret = \"rkfbCrzxzA\"\n"
      ],
      "metadata": {
        "id": "tJFqiN_Aj_A1"
      },
      "execution_count": 2,
      "outputs": []
    },
    {
      "cell_type": "code",
      "source": [
        "# 3. API 요청 URL을 설정\n",
        "url = \"https://openapi.naver.com/v1/datalab/search\";\n"
      ],
      "metadata": {
        "id": "MM5YjAtfkLz4"
      },
      "execution_count": 3,
      "outputs": []
    },
    {
      "cell_type": "code",
      "source": [
        "# 4. API에 전달할 파라미터를 JSON 형식의 문자열로 직상힌다. \n",
        "# 이 예제에서는 2017년 1월 1일 부터 4월 30일 까지, 한글 영어 검색어 추이, 월간 기준, PC에서 조회, 여자, 10대20대 \n",
        "body = \"{\\\"startDate\\\":\\\"2017-01-01\\\",\\\n",
        "        \\\"endDate\\\":\\\"2017-04-30\\\",\\\"timeUnit\\\":\\\"month\\\",\\\n",
        "        \\\"keywordGroups\\\":[{\\\"groupName\\\":\\\"한글\\\",\\\"keywords\\\":[\\\"한글\\\",\\\"korean\\\"]},\\\n",
        "        {\\\"groupName\\\":\\\"영어\\\",\\\"keywords\\\":[\\\"영어\\\",\\\"english\\\"]}],\\\n",
        "        \\\"device\\\":\\\"pc\\\",\\\"ages\\\":[\\\"1\\\",\\\"2\\\"],\\\"gender\\\":\\\"f\\\"}\";\n"
      ],
      "metadata": {
        "id": "ZXPodJnmkU0v"
      },
      "execution_count": 5,
      "outputs": []
    },
    {
      "cell_type": "code",
      "source": [
        "#5. 요청을 위한 객체를 만들고, 헤더에 클라이언트 아이디와 시크릿, 그리고 콘텐츠 타입을 설정\n",
        "request = urllib.request.Request(url)\n",
        "request.add_header(\"X-Naver-Client-Id\",client_id)\n",
        "request.add_header(\"X-Naver-Client-Secret\",client_secret)\n",
        "request.add_header(\"Content-Type\",\"application/json\")\n"
      ],
      "metadata": {
        "id": "REodQMIXlakU"
      },
      "execution_count": 6,
      "outputs": []
    },
    {
      "cell_type": "code",
      "source": [
        "#6. 요청을 보내고 응답을 받는다. 요청 시, JSON 형식의 문자열을 utf-8 인코딩하여 데이터로 전달.\n",
        "response = urllib.request.urlopen(request, data=body.encode(\"utf-8\"))\n"
      ],
      "metadata": {
        "id": "XLbn1A8Ylhs-"
      },
      "execution_count": 7,
      "outputs": []
    },
    {
      "cell_type": "code",
      "source": [
        "#응답의 상태 코드를 확인하고, 성공적으로 데이터를 받아온 경우(200 상태 코드) 결과를 출력. 그렇지 않은 경우, 에러 코드를 출력.\n",
        "rescode = response.getcode()\n",
        "if(rescode==200):\n",
        "    response_body = response.read()\n",
        "    print(response_body.decode('utf-8'))\n",
        "else:\n",
        "    print(\"Error Code:\" + rescode)\n",
        "\n"
      ],
      "metadata": {
        "colab": {
          "base_uri": "https://localhost:8080/"
        },
        "id": "6a23EgrwlrKv",
        "outputId": "00c76be3-73e9-481b-b194-4f349df2a8a6"
      },
      "execution_count": 8,
      "outputs": [
        {
          "output_type": "stream",
          "name": "stdout",
          "text": [
            "{\"startDate\":\"2017-01-01\",\"endDate\":\"2017-04-30\",\"timeUnit\":\"month\",\"results\":[{\"title\":\"한글\",\"keywords\":[\"한글\",\"korean\"],\"data\":[{\"period\":\"2017-01-01\",\"ratio\":47.00101},{\"period\":\"2017-02-01\",\"ratio\":53.23619},{\"period\":\"2017-03-01\",\"ratio\":100},{\"period\":\"2017-04-01\",\"ratio\":85.327}]},{\"title\":\"영어\",\"keywords\":[\"영어\",\"english\"],\"data\":[{\"period\":\"2017-01-01\",\"ratio\":40.0881},{\"period\":\"2017-02-01\",\"ratio\":36.69942},{\"period\":\"2017-03-01\",\"ratio\":52.11792},{\"period\":\"2017-04-01\",\"ratio\":44.4595}]}]}\n"
          ]
        }
      ]
    },
    {
      "cell_type": "markdown",
      "source": [
        "### 위 코드를 판다스를 사용해서 출력 결과를 DataFrame으로 정리"
      ],
      "metadata": {
        "id": "bE9Ly0_TmHa3"
      }
    },
    {
      "cell_type": "markdown",
      "source": [
        "먼저 pandas와 json 모듈을 import.\n",
        "그리고 출력된 JSON 결과를 파싱해서 DataFrame에 저장"
      ],
      "metadata": {
        "id": "Nm2dRDFbnZit"
      }
    },
    {
      "cell_type": "code",
      "source": [
        "import os\n",
        "import sys\n",
        "import urllib.request\n",
        "import pandas as pd\n",
        "import json\n",
        "\n",
        "client_id = \"0T1JOYIqKWNOC8o1_6pM\"\n",
        "client_secret = \"rkfbCrzxzA\"\n",
        "url = \"https://openapi.naver.com/v1/datalab/search\";\n",
        "body = \"{\\\"startDate\\\":\\\"2017-01-01\\\",\\\"endDate\\\":\\\"2017-04-30\\\",\\\"timeUnit\\\":\\\"month\\\",\\\"keywordGroups\\\":[{\\\"groupName\\\":\\\"한글\\\",\\\"keywords\\\":[\\\"한글\\\",\\\"korean\\\"]},{\\\"groupName\\\":\\\"영어\\\",\\\"keywords\\\":[\\\"영어\\\",\\\"english\\\"]}],\\\"device\\\":\\\"pc\\\",\\\"ages\\\":[\\\"1\\\",\\\"2\\\"],\\\"gender\\\":\\\"f\\\"}\";\n",
        "\n",
        "request = urllib.request.Request(url)\n",
        "request.add_header(\"X-Naver-Client-Id\",client_id)\n",
        "request.add_header(\"X-Naver-Client-Secret\",client_secret)\n",
        "request.add_header(\"Content-Type\",\"application/json\")\n",
        "response = urllib.request.urlopen(request, data=body.encode(\"utf-8\"))\n",
        "rescode = response.getcode()\n",
        "\n",
        "if(rescode==200):\n",
        "    response_body = response.read()\n",
        "    result = json.loads(response_body.decode('utf-8'))\n",
        "else:\n",
        "    print(\"Error Code:\" + rescode)\n",
        "\n",
        "# Create an empty DataFrame\n",
        "data_df = pd.DataFrame(columns=[\"title\", \"period\", \"ratio\"])\n",
        "\n",
        "# Loop through the results and append each data point to the DataFrame\n",
        "for keyword_result in result[\"results\"]:\n",
        "    title = keyword_result[\"title\"]\n",
        "    for data in keyword_result[\"data\"]:\n",
        "        period = data[\"period\"]\n",
        "        ratio = data[\"ratio\"]\n",
        "        data_df = data_df.append({\"title\": title, \"period\": period, \"ratio\": ratio}, ignore_index=True)\n",
        "\n",
        "# Print the DataFrame\n",
        "print(data_df)\n"
      ],
      "metadata": {
        "colab": {
          "base_uri": "https://localhost:8080/"
        },
        "id": "FOXKm8jzmUsr",
        "outputId": "bcba347d-7360-41f2-9d06-a0a9fb28aa06"
      },
      "execution_count": 9,
      "outputs": [
        {
          "output_type": "stream",
          "name": "stdout",
          "text": [
            "  title      period      ratio\n",
            "0    한글  2017-01-01   47.00101\n",
            "1    한글  2017-02-01   53.23619\n",
            "2    한글  2017-03-01  100.00000\n",
            "3    한글  2017-04-01   85.32700\n",
            "4    영어  2017-01-01   40.08810\n",
            "5    영어  2017-02-01   36.69942\n",
            "6    영어  2017-03-01   52.11792\n",
            "7    영어  2017-04-01   44.45950\n"
          ]
        },
        {
          "output_type": "stream",
          "name": "stderr",
          "text": [
            "<ipython-input-9-95a19f83aa4a>:34: FutureWarning: The frame.append method is deprecated and will be removed from pandas in a future version. Use pandas.concat instead.\n",
            "  data_df = data_df.append({\"title\": title, \"period\": period, \"ratio\": ratio}, ignore_index=True)\n",
            "<ipython-input-9-95a19f83aa4a>:34: FutureWarning: The frame.append method is deprecated and will be removed from pandas in a future version. Use pandas.concat instead.\n",
            "  data_df = data_df.append({\"title\": title, \"period\": period, \"ratio\": ratio}, ignore_index=True)\n",
            "<ipython-input-9-95a19f83aa4a>:34: FutureWarning: The frame.append method is deprecated and will be removed from pandas in a future version. Use pandas.concat instead.\n",
            "  data_df = data_df.append({\"title\": title, \"period\": period, \"ratio\": ratio}, ignore_index=True)\n",
            "<ipython-input-9-95a19f83aa4a>:34: FutureWarning: The frame.append method is deprecated and will be removed from pandas in a future version. Use pandas.concat instead.\n",
            "  data_df = data_df.append({\"title\": title, \"period\": period, \"ratio\": ratio}, ignore_index=True)\n",
            "<ipython-input-9-95a19f83aa4a>:34: FutureWarning: The frame.append method is deprecated and will be removed from pandas in a future version. Use pandas.concat instead.\n",
            "  data_df = data_df.append({\"title\": title, \"period\": period, \"ratio\": ratio}, ignore_index=True)\n",
            "<ipython-input-9-95a19f83aa4a>:34: FutureWarning: The frame.append method is deprecated and will be removed from pandas in a future version. Use pandas.concat instead.\n",
            "  data_df = data_df.append({\"title\": title, \"period\": period, \"ratio\": ratio}, ignore_index=True)\n",
            "<ipython-input-9-95a19f83aa4a>:34: FutureWarning: The frame.append method is deprecated and will be removed from pandas in a future version. Use pandas.concat instead.\n",
            "  data_df = data_df.append({\"title\": title, \"period\": period, \"ratio\": ratio}, ignore_index=True)\n",
            "<ipython-input-9-95a19f83aa4a>:34: FutureWarning: The frame.append method is deprecated and will be removed from pandas in a future version. Use pandas.concat instead.\n",
            "  data_df = data_df.append({\"title\": title, \"period\": period, \"ratio\": ratio}, ignore_index=True)\n"
          ]
        }
      ]
    },
    {
      "cell_type": "markdown",
      "source": [
        "### 위의 결과를 'maplotlib'과 'seaborn'라이브러리 이용해서 선 그래프로 시각화하기"
      ],
      "metadata": {
        "id": "BoP5cAwkoGNf"
      }
    },
    {
      "cell_type": "code",
      "source": [
        "pip install matplotlib seaborn"
      ],
      "metadata": {
        "colab": {
          "base_uri": "https://localhost:8080/"
        },
        "id": "pRod1R04oW2L",
        "outputId": "0c064199-5303-441c-d553-a8a8ed3ef7aa"
      },
      "execution_count": 10,
      "outputs": [
        {
          "output_type": "stream",
          "name": "stdout",
          "text": [
            "Looking in indexes: https://pypi.org/simple, https://us-python.pkg.dev/colab-wheels/public/simple/\n",
            "Requirement already satisfied: matplotlib in /usr/local/lib/python3.9/dist-packages (3.7.1)\n",
            "Requirement already satisfied: seaborn in /usr/local/lib/python3.9/dist-packages (0.12.2)\n",
            "Requirement already satisfied: fonttools>=4.22.0 in /usr/local/lib/python3.9/dist-packages (from matplotlib) (4.39.3)\n",
            "Requirement already satisfied: contourpy>=1.0.1 in /usr/local/lib/python3.9/dist-packages (from matplotlib) (1.0.7)\n",
            "Requirement already satisfied: numpy>=1.20 in /usr/local/lib/python3.9/dist-packages (from matplotlib) (1.22.4)\n",
            "Requirement already satisfied: cycler>=0.10 in /usr/local/lib/python3.9/dist-packages (from matplotlib) (0.11.0)\n",
            "Requirement already satisfied: packaging>=20.0 in /usr/local/lib/python3.9/dist-packages (from matplotlib) (23.0)\n",
            "Requirement already satisfied: python-dateutil>=2.7 in /usr/local/lib/python3.9/dist-packages (from matplotlib) (2.8.2)\n",
            "Requirement already satisfied: kiwisolver>=1.0.1 in /usr/local/lib/python3.9/dist-packages (from matplotlib) (1.4.4)\n",
            "Requirement already satisfied: importlib-resources>=3.2.0 in /usr/local/lib/python3.9/dist-packages (from matplotlib) (5.12.0)\n",
            "Requirement already satisfied: pillow>=6.2.0 in /usr/local/lib/python3.9/dist-packages (from matplotlib) (8.4.0)\n",
            "Requirement already satisfied: pyparsing>=2.3.1 in /usr/local/lib/python3.9/dist-packages (from matplotlib) (3.0.9)\n",
            "Requirement already satisfied: pandas>=0.25 in /usr/local/lib/python3.9/dist-packages (from seaborn) (1.4.4)\n",
            "Requirement already satisfied: zipp>=3.1.0 in /usr/local/lib/python3.9/dist-packages (from importlib-resources>=3.2.0->matplotlib) (3.15.0)\n",
            "Requirement already satisfied: pytz>=2020.1 in /usr/local/lib/python3.9/dist-packages (from pandas>=0.25->seaborn) (2022.7.1)\n",
            "Requirement already satisfied: six>=1.5 in /usr/local/lib/python3.9/dist-packages (from python-dateutil>=2.7->matplotlib) (1.16.0)\n"
          ]
        }
      ]
    },
    {
      "cell_type": "code",
      "source": [
        "import os\n",
        "import sys\n",
        "import urllib.request\n",
        "import pandas as pd\n",
        "import json\n",
        "import matplotlib.pyplot as plt\n",
        "import seaborn as sns\n",
        "\n",
        "client_id = \"0T1JOYIqKWNOC8o1_6pM\"\n",
        "client_secret = \"rkfbCrzxzA\"\n",
        "url = \"https://openapi.naver.com/v1/datalab/search\";\n",
        "body = \"{\\\"startDate\\\":\\\"2017-01-01\\\",\\\"endDate\\\":\\\"2017-04-30\\\",\\\"timeUnit\\\":\\\"month\\\",\\\"keywordGroups\\\":[{\\\"groupName\\\":\\\"한글\\\",\\\"keywords\\\":[\\\"한글\\\",\\\"korean\\\"]},{\\\"groupName\\\":\\\"영어\\\",\\\"keywords\\\":[\\\"영어\\\",\\\"english\\\"]}],\\\"device\\\":\\\"pc\\\",\\\"ages\\\":[\\\"1\\\",\\\"2\\\"],\\\"gender\\\":\\\"f\\\"}\";\n",
        "\n",
        "request = urllib.request.Request(url)\n",
        "request.add_header(\"X-Naver-Client-Id\",client_id)\n",
        "request.add_header(\"X-Naver-Client-Secret\",client_secret)\n",
        "request.add_header(\"Content-Type\",\"application/json\")\n",
        "response = urllib.request.urlopen(request, data=body.encode(\"utf-8\"))\n",
        "rescode = response.getcode()\n",
        "\n",
        "if(rescode==200):\n",
        "    response_body = response.read()\n",
        "    result = json.loads(response_body.decode('utf-8'))\n",
        "else:\n",
        "    print(\"Error Code:\" + rescode)\n",
        "\n",
        "data_df = pd.DataFrame(columns=[\"title\", \"period\", \"ratio\"])\n",
        "\n",
        "for keyword_result in result[\"results\"]:\n",
        "    title = keyword_result[\"title\"]\n",
        "    for data in keyword_result[\"data\"]:\n",
        "        period = data[\"period\"]\n",
        "        ratio = data[\"ratio\"]\n",
        "        data_df = data_df.append({\"title\": title, \"period\": period, \"ratio\": ratio}, ignore_index=True)\n",
        "\n",
        "plt.figure(figsize=(12, 6))\n",
        "sns.lineplot(x='period', y='ratio', hue='title', data=data_df)\n",
        "plt.title(\"Keyword Trends\")\n",
        "plt.xlabel(\"Period\")\n",
        "plt.ylabel(\"Relative Search Ratio\")\n",
        "plt.xticks(rotation=45)\n",
        "plt.show()\n"
      ],
      "metadata": {
        "colab": {
          "base_uri": "https://localhost:8080/",
          "height": 911
        },
        "id": "jNtuCxv7oguX",
        "outputId": "e6b13adf-ec48-42ca-9e52-5233ffdd3d9b"
      },
      "execution_count": 13,
      "outputs": [
        {
          "output_type": "stream",
          "name": "stderr",
          "text": [
            "<ipython-input-13-bbc0460bd1a8>:34: FutureWarning: The frame.append method is deprecated and will be removed from pandas in a future version. Use pandas.concat instead.\n",
            "  data_df = data_df.append({\"title\": title, \"period\": period, \"ratio\": ratio}, ignore_index=True)\n",
            "<ipython-input-13-bbc0460bd1a8>:34: FutureWarning: The frame.append method is deprecated and will be removed from pandas in a future version. Use pandas.concat instead.\n",
            "  data_df = data_df.append({\"title\": title, \"period\": period, \"ratio\": ratio}, ignore_index=True)\n",
            "<ipython-input-13-bbc0460bd1a8>:34: FutureWarning: The frame.append method is deprecated and will be removed from pandas in a future version. Use pandas.concat instead.\n",
            "  data_df = data_df.append({\"title\": title, \"period\": period, \"ratio\": ratio}, ignore_index=True)\n",
            "<ipython-input-13-bbc0460bd1a8>:34: FutureWarning: The frame.append method is deprecated and will be removed from pandas in a future version. Use pandas.concat instead.\n",
            "  data_df = data_df.append({\"title\": title, \"period\": period, \"ratio\": ratio}, ignore_index=True)\n",
            "<ipython-input-13-bbc0460bd1a8>:34: FutureWarning: The frame.append method is deprecated and will be removed from pandas in a future version. Use pandas.concat instead.\n",
            "  data_df = data_df.append({\"title\": title, \"period\": period, \"ratio\": ratio}, ignore_index=True)\n",
            "<ipython-input-13-bbc0460bd1a8>:34: FutureWarning: The frame.append method is deprecated and will be removed from pandas in a future version. Use pandas.concat instead.\n",
            "  data_df = data_df.append({\"title\": title, \"period\": period, \"ratio\": ratio}, ignore_index=True)\n",
            "<ipython-input-13-bbc0460bd1a8>:34: FutureWarning: The frame.append method is deprecated and will be removed from pandas in a future version. Use pandas.concat instead.\n",
            "  data_df = data_df.append({\"title\": title, \"period\": period, \"ratio\": ratio}, ignore_index=True)\n",
            "<ipython-input-13-bbc0460bd1a8>:34: FutureWarning: The frame.append method is deprecated and will be removed from pandas in a future version. Use pandas.concat instead.\n",
            "  data_df = data_df.append({\"title\": title, \"period\": period, \"ratio\": ratio}, ignore_index=True)\n",
            "/usr/local/lib/python3.9/dist-packages/IPython/core/pylabtools.py:151: UserWarning: Glyph 54620 (\\N{HANGUL SYLLABLE HAN}) missing from current font.\n",
            "  fig.canvas.print_figure(bytes_io, **kw)\n",
            "/usr/local/lib/python3.9/dist-packages/IPython/core/pylabtools.py:151: UserWarning: Glyph 44544 (\\N{HANGUL SYLLABLE GEUL}) missing from current font.\n",
            "  fig.canvas.print_figure(bytes_io, **kw)\n",
            "/usr/local/lib/python3.9/dist-packages/IPython/core/pylabtools.py:151: UserWarning: Glyph 50689 (\\N{HANGUL SYLLABLE YEONG}) missing from current font.\n",
            "  fig.canvas.print_figure(bytes_io, **kw)\n",
            "/usr/local/lib/python3.9/dist-packages/IPython/core/pylabtools.py:151: UserWarning: Glyph 50612 (\\N{HANGUL SYLLABLE EO}) missing from current font.\n",
            "  fig.canvas.print_figure(bytes_io, **kw)\n"
          ]
        },
        {
          "output_type": "display_data",
          "data": {
            "text/plain": [
              "<Figure size 1200x600 with 1 Axes>"
            ],
            "image/png": "[encoded data removed]"
          },
          "metadata": {}
        }
      ]
    }
  ]
}